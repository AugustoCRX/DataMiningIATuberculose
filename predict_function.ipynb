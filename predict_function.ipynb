{
 "cells": [
  {
   "cell_type": "code",
   "execution_count": 1,
   "id": "cb8616b7",
   "metadata": {},
   "outputs": [],
   "source": [
    "import tensorflow as tf\n",
    "import numpy as np\n",
    "import cv2"
   ]
  },
  {
   "cell_type": "code",
   "execution_count": 15,
   "id": "c58877ca",
   "metadata": {},
   "outputs": [
    {
     "name": "stdout",
     "output_type": "stream",
     "text": [
      "\u001b[1m1/1\u001b[0m \u001b[32m━━━━━━━━━━━━━━━━━━━━\u001b[0m\u001b[37m\u001b[0m \u001b[1m3s\u001b[0m 3s/step\n"
     ]
    },
    {
     "data": {
      "text/plain": [
       "0.9970886"
      ]
     },
     "execution_count": 15,
     "metadata": {},
     "output_type": "execute_result"
    }
   ],
   "source": [
    "def carregar_modelo_e_prever(model_path, image_path):\n",
    "    category_dict = {\n",
    "        \"Normal\": 0,\n",
    "        \"Tuberculose\": 1,\n",
    "    }\n",
    "\n",
    "    # Carregar o modelo\n",
    "    modelo = tf.keras.models.load_model(model_path)\n",
    "\n",
    "    # Carregar e pré-processar a imagem\n",
    "    img = cv2.imread(image_path, cv2.IMREAD_GRAYSCALE)\n",
    "    img = cv2.resize(img, (299,299))\n",
    "    img = cv2.medianBlur(img, 7)\n",
    "    img = img.squeeze()\n",
    "    img = cv2.cvtColor(img, cv2.COLOR_GRAY2BGR)\n",
    "    img = np.asarray(img)\n",
    "    img = np.expand_dims(img, axis=0)     # Adiciona dimensão de batch: (1, 299, 299, 3)\n",
    "\n",
    "    # Fazer a previsão\n",
    "    previsao = modelo.predict(img)\n",
    "\n",
    "    # Obter o nome da classe\n",
    "    probabilidade = previsao[0][1]\n",
    "\n",
    "    return  probabilidade\n",
    "carregar_modelo_e_prever(r'model\\inception_model.keras', r'I:\\data_mining_tuberculose\\img_test\\tuberculose-true2.jpg')"
   ]
  }
 ],
 "metadata": {
  "kernelspec": {
   "display_name": "base",
   "language": "python",
   "name": "python3"
  },
  "language_info": {
   "codemirror_mode": {
    "name": "ipython",
    "version": 3
   },
   "file_extension": ".py",
   "mimetype": "text/x-python",
   "name": "python",
   "nbconvert_exporter": "python",
   "pygments_lexer": "ipython3",
   "version": "3.12.3"
  }
 },
 "nbformat": 4,
 "nbformat_minor": 5
}
